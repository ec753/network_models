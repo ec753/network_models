{
 "cells": [
  {
   "cell_type": "markdown",
   "id": "d3e371d7",
   "metadata": {},
   "source": [
    "# Integrate and fire cell\n",
    "Code to prototype the integrate and fire cell using `h.IntFire4()`"
   ]
  },
  {
   "cell_type": "code",
   "execution_count": 27,
   "id": "c0194b1f",
   "metadata": {},
   "outputs": [],
   "source": [
    "from neuron import h\n",
    "from neuron.units import mV, ms\n",
    "h.load_file('stdrun.hoc')\n",
    "\n",
    "import matplotlib.pyplot as plt"
   ]
  },
  {
   "cell_type": "markdown",
   "id": "4ea573f2",
   "metadata": {},
   "source": [
    "## Create an INF cell"
   ]
  },
  {
   "cell_type": "code",
   "execution_count": 76,
   "id": "1468a287",
   "metadata": {},
   "outputs": [],
   "source": [
    "class INF:\n",
    "    def __init__(self, metadata, taue=2, taui1=3, taui2=4, taum=6, ex_weight=.5, in_weight=-.5, x = 'na', y = 'na'):\n",
    "        self.metadata = metadata\n",
    "        \n",
    "        # cell positioning\n",
    "        self.x = x\n",
    "        self.y = y\n",
    "        \n",
    "        # cell signaling\n",
    "        self.ex_weight = ex_weight # weight of excitatory stimulus\n",
    "        self.in_weight = in_weight # weight of inhibitory stimulus (h.IntFire4() treats negative weights as inhibitory)\n",
    "        \n",
    "        # create cell\n",
    "        self.cell = h.IntFire4()\n",
    "        \n",
    "        self.taue = taue\n",
    "        self.cell.taue = taue     # ms excitatory input time constant\n",
    "        self.taui1 = taui1\n",
    "        self.cell.taui1 = taui1   # ms inhibitory input rise time constant\n",
    "        self.taui2 = taui2\n",
    "        self.cell.taui2 = taui2   # ms inhibitory input fall time constant\n",
    "        self.taum = taum\n",
    "        self.cell.taum = taum     # membrane time constant\n",
    "        \n",
    "        # setup connections:\n",
    "            # dictionaries with {'stim_title':{'stim','sender','stim_times'}}\n",
    "        self.stims_poisson = {}\n",
    "        self.stims_sending = {} \n",
    "        self.stims_recieving = {}\n",
    "        \n",
    "        # setup recording\n",
    "        # setup recording\n",
    "        self.spike_detector = h.NetCon(self.cell, None)\n",
    "        self.spike_times = h.Vector()\n",
    "        self.spike_detector.record(self.spike_times)\n",
    "        \n",
    "        self._m = h.Vector().record(self.cell._ref_m)\n",
    "        self._e = h.Vector().record(self.cell._ref_e)\n",
    "        \n",
    "    def check_INF_taus(self):\n",
    "        # check the time constants to see if they meet the needed constraint:\n",
    "            # taue < taui1 < taui2 < taum\n",
    "        return self.cell.taue < self.cell.taui1 < self.cell.taui2 < self.cell.taum\n",
    "    \n",
    "    def add_poisson_stimulus(self, stim_title, n_stimuli, stim_interval, delay, weight):\n",
    "        # create stimulus\n",
    "        stim = h.NetStim()\n",
    "        stim.number = n_stimuli\n",
    "        stim.interval = stim_interval * ms\n",
    "        stim.noise = True\n",
    "        stim.start = 0 * ms\n",
    "        stim_times = h.Vector()\n",
    "        \n",
    "        # connect to cell\n",
    "        nc = h.NetCon(stim, self.cell)\n",
    "        nc.delay = delay * ms\n",
    "        nc.weight[0] = weight\n",
    "        nc.record(stim_times)\n",
    "        \n",
    "        self.stims_poisson[stim_title] = {\n",
    "            'stim': stim,\n",
    "            'stim_times': stim_times\n",
    "        }\n",
    "        \n",
    "    def plot_cell(self, sim_length):\n",
    "        fig, axes = plt.subplots(3,1, figsize = (15,7), sharex = True)\n",
    "        \n",
    "        # inputs\n",
    "        axes[0].set_ylabel('stimuli')\n",
    "        stim_num = 0\n",
    "        stim_titles = []\n",
    "        for stim in self.stims_poisson:\n",
    "            stim_titles.append(stim)\n",
    "            axes[0].vlines(list(self.stims_poisson[stim]['stim_times']), stim_num, stim_num + 1)\n",
    "            stim_num += 1\n",
    "        \n",
    "        # model states\n",
    "        axes[2].set_ylabel('membrane state variable')\n",
    "        axes[1].plot(self._m)\n",
    "        \n",
    "        # model output\n",
    "        axes[2].set_ylabel('output')\n",
    "        axes[2].vlines(list(self.spike_times), 0, 1)\n",
    "        \n",
    "        axes[0].set_xlim(0, sim_length)\n",
    "        return"
   ]
  },
  {
   "cell_type": "code",
   "execution_count": 105,
   "id": "4d354995",
   "metadata": {},
   "outputs": [
    {
     "name": "stdout",
     "output_type": "stream",
     "text": [
      "taus check: True\n"
     ]
    },
    {
     "data": {
      "image/png": "[encoded data removed]",
      "text/plain": [
       "<Figure size 1080x504 with 3 Axes>"
      ]
     },
     "metadata": {
      "needs_background": "light"
     },
     "output_type": "display_data"
    }
   ],
   "source": [
    "cell = INF({})\n",
    "print('taus check:',inf.check_INF_taus())\n",
    "cell.add_poisson_stimulus('ex1', 999999, .1, 0, 10)\n",
    "\n",
    "sim_length = 100\n",
    "h.finitialize()\n",
    "h.continuerun(sim_length)\n",
    "\n",
    "cell.plot_cell(sim_length)"
   ]
  },
  {
   "cell_type": "code",
   "execution_count": null,
   "id": "a7173cd5",
   "metadata": {},
   "outputs": [],
   "source": []
  },
  {
   "cell_type": "code",
   "execution_count": 106,
   "id": "144e54af",
   "metadata": {},
   "outputs": [
    {
     "name": "stdout",
     "output_type": "stream",
     "text": [
      "stim_times [2.817655000460172, 4.118048813807582, 8.464834779979004, 11.317561763848314, 11.423945335499171, 11.492529780735607, 22.036631025147564, 25.2248218601114, 25.450332773743337, 29.562398600234218, 37.83738514221704, 40.404596444525446, 40.87512970362346, 43.374017134406, 44.46661625087239, 49.51591595966684, 49.85604357759633, 52.49441582689037, 53.498814905003925, 53.51446781684092, 53.675444670284094, 55.92975620961927, 58.08753316259227, 60.08913876276199, 63.52382890798154, 63.81638994894315, 64.46733715876611, 64.49502391836067, 64.98103212403292, 65.9275961453227, 67.16130769637125, 68.6321839188514, 69.34423617465828, 73.14694455592567, 73.29242545869532, 73.97148512306325, 74.7641548303272, 75.45679521991282, 83.06466644798014, 85.10798843520318, 85.43708181571866, 85.52233786977516, 86.04721188897464, 89.7050032577202, 90.40905533415804, 97.38521051192357]\n",
      "spike_times [4.790099715866525, 8.698039816065371, 11.529698556867439, 12.188089295489617, 13.20226215638693, 15.83557002980034, 25.244579909316855, 26.37152940208948, 29.189267957082674, 32.227507818270844, 40.473760969965504, 41.66733187562748, 43.56513406648663, 44.89452337310732, 46.728300069462, 50.188550594238194, 51.769056375826956, 53.55093763305469, 54.08703720132059, 54.76834813941261, 55.84051568366494, 56.87614000525084, 58.43599148724979, 60.205763190648774, 62.03026305512618, 64.23107153655695, 64.89480964668387, 65.41967874082162, 66.04364159689106, 66.68656382162358, 67.45749379229895, 68.36080040502986, 69.31870488812048, 70.12173255143729, 71.52642206574842, 73.58835754241149, 74.41424275792437, 75.18620376115676, 75.89275216653606, 76.81201981440401, 78.75132048350775, 84.5107545623275, 85.82690002692955, 86.42748278627244, 87.17463424654323, 88.43087111959206, 90.356229270553, 91.46851877784066, 97.54070558661165]\n"
     ]
    }
   ],
   "source": [
    "from neuron import h\n",
    "from neuron.units import mV, ms\n",
    "h.load_file(\"stdrun.hoc\")\n",
    "cell = h.IntFire4()\n",
    "# setup taus\n",
    "cell.taue = 2\n",
    "cell.taum = 10\n",
    "# setup recording\n",
    "spike_detector = h.NetCon(cell, None)\n",
    "spike_times = h.Vector()\n",
    "spike_detector.record(spike_times)\n",
    "# add stimulus\n",
    "stim = h.NetStim()\n",
    "stim.number = 999999\n",
    "stim.interval = 2 * ms\n",
    "stim.noise = True\n",
    "stim.start = 0 * ms\n",
    "stim_times = h.Vector()\n",
    "# connect stimulus to cell\n",
    "nc = h.NetCon(stim, cell)\n",
    "nc.delay = 0 * ms\n",
    "nc.weight[0] = .8\n",
    "nc.record(stim_times)\n",
    "# run sim\n",
    "sim_length = 100\n",
    "h.finitialize()\n",
    "h.continuerun(sim_length)\n",
    "print(\"stim_times\", list(stim_times))\n",
    "print(\"spike_times\", list(spike_times))"
   ]
  }
 ],
 "metadata": {
  "kernelspec": {
   "display_name": "Python 3 (ipykernel)",
   "language": "python",
   "name": "python3"
  },
  "language_info": {
   "codemirror_mode": {
    "name": "ipython",
    "version": 3
   },
   "file_extension": ".py",
   "mimetype": "text/x-python",
   "name": "python",
   "nbconvert_exporter": "python",
   "pygments_lexer": "ipython3",
   "version": "3.8.10"
  }
 },
 "nbformat": 4,
 "nbformat_minor": 5
}
